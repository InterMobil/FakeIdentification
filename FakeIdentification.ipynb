{
 "cells": [
  {
   "cell_type": "code",
   "execution_count": null,
   "metadata": {},
   "outputs": [],
   "source": [
    "# Importing library\n",
    "import cv2\n",
    "from pyzbar.pyzbar import decode\n",
    "\n",
    "def fake_identification(image):\n",
    "    \n",
    "    kimlik_no = 0\n",
    "    \n",
    "    # read the image in numpy array using cv2\n",
    "    img = cv2.imread(image)\n",
    "    \n",
    "    # Convert the image to grayscale\n",
    "    img = cv2.cvtColor(img, cv2.COLOR_BGR2GRAY)\n",
    "    \n",
    "    # Iterate over a range of threshold values\n",
    "    for i in range(95,125):\n",
    "        \n",
    "        # Apply binary thresholding to the grayscale image\n",
    "        (thresh, blackAndWhiteImage) = cv2.threshold(img, i, 255, cv2.THRESH_BINARY)\n",
    "\n",
    "        # Decode the barcode image\n",
    "        detectedBarcodes = decode(blackAndWhiteImage)\n",
    "\n",
    "        # If not detected then print the message\n",
    "        if not detectedBarcodes:\n",
    "            pass\n",
    "        else:\n",
    "            # Traverse through all the detected barcodes in image\n",
    "            for barcode in detectedBarcodes:\n",
    "                if barcode.data:\n",
    "                    # Extract numeric characters from the barcode data\n",
    "                    numeric_data = ''.join(filter(str.isdigit, barcode.data.decode('utf-8')))\n",
    "\n",
    "                    # Print the numeric portion of the barcode data\n",
    "                    if numeric_data:\n",
    "                        kimlik_no = numeric_data\n",
    "                        return kimlik_no\n",
    "                    else:\n",
    "                        print(\"Barcode Data has no numeric portion.\")\n",
    "                    \n",
    "# Call the method with the image file path\n",
    "fake_identification('/barcode_path')"
   ]
  }
 ],
 "metadata": {
  "kernelspec": {
   "display_name": "Python 3",
   "language": "python",
   "name": "python3"
  },
  "language_info": {
   "codemirror_mode": {
    "name": "ipython",
    "version": 3
   },
   "file_extension": ".py",
   "mimetype": "text/x-python",
   "name": "python",
   "nbconvert_exporter": "python",
   "pygments_lexer": "ipython3",
   "version": "3.8.3"
  }
 },
 "nbformat": 4,
 "nbformat_minor": 4
}
